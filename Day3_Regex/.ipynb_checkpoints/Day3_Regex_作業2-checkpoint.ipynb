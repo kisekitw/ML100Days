{
 "cells": [
  {
   "cell_type": "code",
   "execution_count": 4,
   "metadata": {},
   "outputs": [],
   "source": [
    "import re"
   ]
  },
  {
   "cell_type": "markdown",
   "metadata": {},
   "source": [
    "## HW1: 電話號碼配對"
   ]
  },
  {
   "cell_type": "code",
   "execution_count": 4,
   "metadata": {},
   "outputs": [],
   "source": [
    "telephones = [\"02-27208889\", \"04-2220-3585\", \"(06)-2991111\", \"(07)799-5678\"]"
   ]
  },
  {
   "cell_type": "code",
   "execution_count": 21,
   "metadata": {},
   "outputs": [
    {
     "name": "stdout",
     "output_type": "stream",
     "text": [
      "['02', '27208889']\n",
      "['04', '2220', '3585']\n",
      "['06', '2991111']\n",
      "['07', '799', '5678']\n"
     ]
    }
   ],
   "source": [
    "pattern = re.compile('\\d+')\n",
    "for item in telephones:\n",
    "    print(re.findall(pattern, item))"
   ]
  },
  {
   "cell_type": "markdown",
   "metadata": {},
   "source": [
    "## HW2: 身分證字號配對"
   ]
  },
  {
   "cell_type": "code",
   "execution_count": 23,
   "metadata": {},
   "outputs": [],
   "source": [
    "identities = ['A121040176','L186856359','Z127598010','I114537095','D279884447',\n",
    "            'L186834359','D243736345','I114537095','Q146110887','D187217314','I114537095',\n",
    "            'Q243556025','Z127598010','H250077453','Q188367037']"
   ]
  },
  {
   "cell_type": "code",
   "execution_count": 48,
   "metadata": {},
   "outputs": [
    {
     "name": "stdout",
     "output_type": "stream",
     "text": [
      "Q146110887\n",
      "D187217314\n",
      "Q188367037\n"
     ]
    }
   ],
   "source": [
    "pattern = re.compile('[HDQ]1\\d{8}')\n",
    "\n",
    "for item in identities:\n",
    "    if re.findall(pattern, item) != []:\n",
    "        print(item)"
   ]
  },
  {
   "cell_type": "markdown",
   "metadata": {},
   "source": [
    "## HW3: 電子郵件配對"
   ]
  },
  {
   "cell_type": "code",
   "execution_count": 49,
   "metadata": {},
   "outputs": [],
   "source": [
    "mails = ['foobar@gmail.com','NoOneCareMe@gmail.com','SaveTheWorld@hotmail.com',\n",
    "        'zzzGroup@yahoo.com','eagle1963@gmail.com','maythefourthwithyiu@starwars.com']"
   ]
  },
  {
   "cell_type": "code",
   "execution_count": 60,
   "metadata": {},
   "outputs": [
    {
     "name": "stdout",
     "output_type": "stream",
     "text": [
      "SaveTheWorld@hotmail.com\n",
      "zzzGroup@yahoo.com\n",
      "maythefourthwithyiu@starwars.com\n"
     ]
    }
   ],
   "source": [
    "pattern = re.compile(r'(.*)@(?!gmail)\\w+\\.com')\n",
    "for mail in mails:\n",
    "    if re.findall(pattern, mail) != []:\n",
    "        print(mail)"
   ]
  },
  {
   "cell_type": "markdown",
   "metadata": {},
   "source": [
    "## HW4: HTML格式配對"
   ]
  },
  {
   "cell_type": "code",
   "execution_count": 5,
   "metadata": {},
   "outputs": [],
   "source": [
    "htmls =['<h1>This is a header 1</h1>','<a>This is a hyperlink</a>',\n",
    "       \"<div class='test'>This is a text block</div>\",'<a href=\"https://regexisfun.com.tw/\">Learning Regular Expression</a>']"
   ]
  },
  {
   "cell_type": "code",
   "execution_count": 8,
   "metadata": {},
   "outputs": [
    {
     "name": "stdout",
     "output_type": "stream",
     "text": [
      "['h1']\n",
      "['a']\n",
      "['div']\n",
      "['a']\n"
     ]
    }
   ],
   "source": [
    "pattern = re.compile(r'(?<=<)\\w+')\n",
    "for html in htmls:\n",
    "    print(re.findall(pattern, html))"
   ]
  },
  {
   "cell_type": "markdown",
   "metadata": {},
   "source": [
    "## HW5: 特定檔案名稱與格式配對"
   ]
  },
  {
   "cell_type": "code",
   "execution_count": 9,
   "metadata": {},
   "outputs": [],
   "source": [
    "files = ['.bash_profile','workShop.ai','file_folderName_num.jpg','favicon.png','IMG_002.png','IMG_003.gif',\n",
    "        'qoo.jpg.tmp','index.html','foobar.bmp','foobar.jpg','account.html','access.lock']"
   ]
  },
  {
   "cell_type": "code",
   "execution_count": 12,
   "metadata": {},
   "outputs": [
    {
     "name": "stdout",
     "output_type": "stream",
     "text": [
      "file_folderName_num.jpg\n",
      "IMG_003.gif\n",
      "foobar.jpg\n"
     ]
    }
   ],
   "source": [
    "pattern = re.compile(r'(\\w+)\\.(gif|jpg)$')\n",
    "for file in files:\n",
    "    if re.findall(pattern, file) != []:\n",
    "        print(file)"
   ]
  },
  {
   "cell_type": "markdown",
   "metadata": {},
   "source": [
    "## HW6: URL配對"
   ]
  },
  {
   "cell_type": "code",
   "execution_count": 14,
   "metadata": {},
   "outputs": [],
   "source": [
    "urls = ['ftp://file_server.com:21/account/customers.xml','https://hengxiuxu.blogspot.tw/',\n",
    "        'file://localhost:4200','https://s3cur3-server.com:9999/']"
   ]
  },
  {
   "cell_type": "code",
   "execution_count": null,
   "metadata": {},
   "outputs": [],
   "source": [
    "pattern = re.compile(r'')\n",
    "for url in urls:\n",
    "    if re.findall(pattern, url) != []:\n",
    "        print(file)"
   ]
  }
 ],
 "metadata": {
  "kernelspec": {
   "display_name": "Python 3",
   "language": "python",
   "name": "python3"
  },
  "language_info": {
   "codemirror_mode": {
    "name": "ipython",
    "version": 3
   },
   "file_extension": ".py",
   "mimetype": "text/x-python",
   "name": "python",
   "nbconvert_exporter": "python",
   "pygments_lexer": "ipython3",
   "version": "3.8.3"
  }
 },
 "nbformat": 4,
 "nbformat_minor": 4
}
